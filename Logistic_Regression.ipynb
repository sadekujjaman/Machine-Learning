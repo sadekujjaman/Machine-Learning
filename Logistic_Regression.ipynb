{
  "nbformat": 4,
  "nbformat_minor": 0,
  "metadata": {
    "colab": {
      "name": "Logistic_Regression.ipynb",
      "provenance": [],
      "authorship_tag": "ABX9TyPhMQp55Qs9sY0IPU9sVnjr"
    },
    "kernelspec": {
      "name": "python3",
      "display_name": "Python 3"
    }
  },
  "cells": [
    {
      "cell_type": "code",
      "metadata": {
        "id": "vF_b62HRRH1j"
      },
      "source": [
        "import numpy as np\n",
        "import pandas as pd\n",
        "import matplotlib.pyplot as plt\n",
        "from google.colab import drive\n",
        "\n",
        "%matplotlib inline"
      ],
      "execution_count": 5,
      "outputs": []
    },
    {
      "cell_type": "code",
      "metadata": {
        "id": "ums1s4-0Rdhe",
        "outputId": "a5be8aa4-8757-463f-a53b-a5e6e0214e74",
        "colab": {
          "base_uri": "https://localhost:8080/",
          "height": 35
        }
      },
      "source": [
        "drive.mount('/content/drive')"
      ],
      "execution_count": 6,
      "outputs": [
        {
          "output_type": "stream",
          "text": [
            "Mounted at /content/drive\n"
          ],
          "name": "stdout"
        }
      ]
    },
    {
      "cell_type": "code",
      "metadata": {
        "id": "qXaVzhg-R3vV"
      },
      "source": [
        "root_path = 'drive/My Drive/Machine Learning/Logistic_Regression/'"
      ],
      "execution_count": 7,
      "outputs": []
    },
    {
      "cell_type": "code",
      "metadata": {
        "id": "9cN83zIaSXJJ",
        "outputId": "044d4e13-d6f1-4f97-fbe7-2080867af38f",
        "colab": {
          "base_uri": "https://localhost:8080/",
          "height": 35
        }
      },
      "source": [
        "df_X = pd.read_csv(root_path+'logistic_x.txt', sep='\\s+', header=None, engine='python')\n",
        "print(df_X.shape)"
      ],
      "execution_count": 21,
      "outputs": [
        {
          "output_type": "stream",
          "text": [
            "(99, 2)\n"
          ],
          "name": "stdout"
        }
      ]
    },
    {
      "cell_type": "code",
      "metadata": {
        "id": "TxZwCN6xSb0W",
        "outputId": "3315cbc1-adae-4a56-9bb3-abc79a75c97f",
        "colab": {
          "base_uri": "https://localhost:8080/",
          "height": 127
        }
      },
      "source": [
        "print(df_X[0:5])"
      ],
      "execution_count": 22,
      "outputs": [
        {
          "output_type": "stream",
          "text": [
            "          0         1\n",
            "0  1.343250 -1.331148\n",
            "1  1.820553 -0.634668\n",
            "2  0.986321 -1.888576\n",
            "3  1.944373 -1.635452\n",
            "4  0.976734 -1.353315\n"
          ],
          "name": "stdout"
        }
      ]
    },
    {
      "cell_type": "code",
      "metadata": {
        "id": "HcXnELASXnkL",
        "outputId": "ff7ddc17-44d7-42d6-bbf3-18db40522075",
        "colab": {
          "base_uri": "https://localhost:8080/",
          "height": 35
        }
      },
      "source": [
        "ys = pd.read_csv(root_path + 'logistic_y.txt', sep='\\s+', header=None, engine='python')\n",
        "ys = ys.astype(int)\n",
        "print(ys.shape)"
      ],
      "execution_count": 25,
      "outputs": [
        {
          "output_type": "stream",
          "text": [
            "(99, 1)\n"
          ],
          "name": "stdout"
        }
      ]
    },
    {
      "cell_type": "code",
      "metadata": {
        "id": "yrLVJOPrYXlS",
        "outputId": "da900cbc-7f9a-4122-86b9-5087943fc0ba",
        "colab": {
          "base_uri": "https://localhost:8080/",
          "height": 127
        }
      },
      "source": [
        "print(ys[:5])"
      ],
      "execution_count": 26,
      "outputs": [
        {
          "output_type": "stream",
          "text": [
            "   0\n",
            "0 -1\n",
            "1 -1\n",
            "2 -1\n",
            "3 -1\n",
            "4 -1\n"
          ],
          "name": "stdout"
        }
      ]
    },
    {
      "cell_type": "code",
      "metadata": {
        "id": "L_Kripy1ZWBd",
        "outputId": "3f303e79-3959-472e-d963-1e1795c30d63",
        "colab": {
          "base_uri": "https://localhost:8080/",
          "height": 127
        }
      },
      "source": [
        "# Let's append the labels to the data\n",
        "df_X['label'] = ys[0].values\n",
        "print(df_X[:5])"
      ],
      "execution_count": 29,
      "outputs": [
        {
          "output_type": "stream",
          "text": [
            "          0         1  label\n",
            "0  1.343250 -1.331148     -1\n",
            "1  1.820553 -0.634668     -1\n",
            "2  0.986321 -1.888576     -1\n",
            "3  1.944373 -1.635452     -1\n",
            "4  0.976734 -1.353315     -1\n"
          ],
          "name": "stdout"
        }
      ]
    },
    {
      "cell_type": "code",
      "metadata": {
        "id": "qEcQFru6b1ei",
        "outputId": "643b65f4-b909-4604-c091-bb1e056869e2",
        "colab": {
          "base_uri": "https://localhost:8080/",
          "height": 256
        }
      },
      "source": [
        "data_1 = df_X.query('label == -1')\n",
        "data_2 = df_X.query('label == 1')\n",
        "print(type(data_1), data_1.shape, data_2.shape)\n",
        "print(data_1[:5])\n",
        "print(data_2[:5])"
      ],
      "execution_count": 32,
      "outputs": [
        {
          "output_type": "stream",
          "text": [
            "<class 'pandas.core.frame.DataFrame'> (50, 3) (49, 3)\n",
            "          0         1  label\n",
            "0  1.343250 -1.331148     -1\n",
            "1  1.820553 -0.634668     -1\n",
            "2  0.986321 -1.888576     -1\n",
            "3  1.944373 -1.635452     -1\n",
            "4  0.976734 -1.353315     -1\n",
            "           0         1  label\n",
            "50  5.170900  1.210367      1\n",
            "51  4.879519  1.608185      1\n",
            "52  4.664987  1.069553      1\n",
            "53  4.493432  1.235159      1\n",
            "54  4.151297  0.867213      1\n"
          ],
          "name": "stdout"
        }
      ]
    },
    {
      "cell_type": "code",
      "metadata": {
        "id": "tN4C2ZfwcbTu",
        "outputId": "5a12e5bb-9855-4225-f191-f85a334aa17a",
        "colab": {
          "base_uri": "https://localhost:8080/",
          "height": 280
        }
      },
      "source": [
        "ax = plt.axes()\n",
        "data_1.plot.scatter(x = 0, y = 1, ax = ax, color='blue')\n",
        "data_2.plot.scatter(x = 0, y = 1, ax=ax, color='red')\n",
        "plt.xlabel('x_1')\n",
        "plt.ylabel('x_2')\n",
        "plt.show()"
      ],
      "execution_count": 35,
      "outputs": [
        {
          "output_type": "display_data",
          "data": {
            "image/png": "[encoded data removed]",
            "text/plain": [
              "<Figure size 432x288 with 1 Axes>"
            ]
          },
          "metadata": {
            "tags": [],
            "needs_background": "light"
          }
        }
      ]
    },
    {
      "cell_type": "code",
      "metadata": {
        "id": "RkFjrAYrdDkA",
        "outputId": "f048daa1-a504-45d9-afc8-9ada1c780f2b",
        "colab": {
          "base_uri": "https://localhost:8080/",
          "height": 127
        }
      },
      "source": [
        "Xs = df_X[[0, 1]].values\n",
        "print(Xs.shape)\n",
        "print(Xs[:5])"
      ],
      "execution_count": 36,
      "outputs": [
        {
          "output_type": "stream",
          "text": [
            "(99, 2)\n",
            "[[ 1.3432504  -1.3311479 ]\n",
            " [ 1.8205529  -0.6346681 ]\n",
            " [ 0.98632067 -1.8885762 ]\n",
            " [ 1.9443734  -1.635452  ]\n",
            " [ 0.97673352 -1.3533151 ]]\n"
          ],
          "name": "stdout"
        }
      ]
    },
    {
      "cell_type": "code",
      "metadata": {
        "id": "pGH-SBGFfI91"
      },
      "source": [
        "Xs = np.hstack([np.ones((Xs.shape[0], 1)), Xs])"
      ],
      "execution_count": 42,
      "outputs": []
    },
    {
      "cell_type": "code",
      "metadata": {
        "id": "2cEmfQtmfR6h",
        "outputId": "8e3dda9f-6ea2-4359-8a9a-7149c9bdb5b6",
        "colab": {
          "base_uri": "https://localhost:8080/",
          "height": 127
        }
      },
      "source": [
        "print(Xs.shape)\n",
        "print(Xs[:5])"
      ],
      "execution_count": 43,
      "outputs": [
        {
          "output_type": "stream",
          "text": [
            "(99, 3)\n",
            "[[ 1.          1.3432504  -1.3311479 ]\n",
            " [ 1.          1.8205529  -0.6346681 ]\n",
            " [ 1.          0.98632067 -1.8885762 ]\n",
            " [ 1.          1.9443734  -1.635452  ]\n",
            " [ 1.          0.97673352 -1.3533151 ]]\n"
          ],
          "name": "stdout"
        }
      ]
    },
    {
      "cell_type": "code",
      "metadata": {
        "id": "dTNQB141fbtN",
        "outputId": "50180115-51a5-4a0d-b993-8848b727d664",
        "colab": {
          "base_uri": "https://localhost:8080/",
          "height": 54
        }
      },
      "source": [
        "ys = df_X['label'].values\n",
        "print(ys.shape)\n",
        "print(ys[:5])"
      ],
      "execution_count": 45,
      "outputs": [
        {
          "output_type": "stream",
          "text": [
            "(99,)\n",
            "[-1 -1 -1 -1 -1]\n"
          ],
          "name": "stdout"
        }
      ]
    },
    {
      "cell_type": "code",
      "metadata": {
        "id": "kUbMgoLngUKm",
        "outputId": "11c4db25-7eca-4e79-b7e9-1b9bebc3c0c0",
        "colab": {
          "base_uri": "https://localhost:8080/",
          "height": 35
        }
      },
      "source": [
        "thetas = []\n",
        "theta = np.zeros(Xs.shape[1])\n",
        "tot = 1e9\n",
        "eps = 1e-6\n",
        "itr = 0\n",
        "\n",
        "while(tot > eps):\n",
        "\n",
        "  zs = ys * np.matmul(Xs, theta)\n",
        "  gzs = 1/(1 + np.exp(-zs))\n",
        "  temp = (gzs - 1) * ys * Xs.T\n",
        "  nablaJ = np.mean(temp, axis=1)\n",
        "  hessian = np.zeros((Xs.shape[1], Xs.shape[1]))\n",
        "  for i in range(hessian.shape[0]):\n",
        "    for j in range(hessian.shape[0]):\n",
        "      if(i <= j):\n",
        "        hessian[i][j] = np.mean(gzs * (1 - gzs) * Xs[:, i] * Xs[:, j])\n",
        "        if(i != j):\n",
        "          hessian[j][i] = hessian[i][j]\n",
        "\n",
        "  delta = np.linalg.inv(hessian).dot(nablaJ)\n",
        "  old_theta = theta.copy()\n",
        "  theta -= delta\n",
        "  thetas.append(theta)\n",
        "\n",
        "  tot = np.sum(np.abs(theta - old_theta))\n",
        "  itr = itr + 1\n",
        "\n",
        "print('converged after {0} iterations'.format(itr))\n",
        "\n",
        "\n",
        "    "
      ],
      "execution_count": 57,
      "outputs": [
        {
          "output_type": "stream",
          "text": [
            "converged after 7 iterations\n"
          ],
          "name": "stdout"
        }
      ]
    },
    {
      "cell_type": "code",
      "metadata": {
        "id": "ENngJGlkgTNk"
      },
      "source": [
        "\n",
        "while tol > 1e-6:\n",
        "    zs = ys * Xs.dot(theta)\n",
        "    gzs = 1 / (1 + np.exp(-zs))\n",
        "    nablaJ = np.mean((gzs - 1) * ys * Xs.T, axis=1)\n",
        "    \n",
        "    hessian = np.zeros((Xs.shape[1], Xs.shape[1]))\n",
        "    for i in range(hessian.shape[0]):\n",
        "        for j in range(hessian.shape[0]):\n",
        "            if i <= j:\n",
        "                hessian[i][j] = np.mean(gzs * (1 - gzs) * Xs[:,i] * Xs[:,j])\n",
        "                if i != j:\n",
        "                    hessian[j][i] = hessian[i][j]\n",
        "            \n",
        "    delta = np.linalg.inv(hessian).dot(nablaJ)\n",
        "    old_theta = theta.copy()\n",
        "    theta -= delta\n",
        "    all_thetas.append(theta.copy())\n",
        "    n_iters += 1\n",
        "    tol = np.sum(np.abs(theta - old_theta))\n",
        "print('converged after {0} iterations'.format(n_iters))"
      ],
      "execution_count": null,
      "outputs": []
    },
    {
      "cell_type": "code",
      "metadata": {
        "id": "HYieMIIzw9w2",
        "outputId": "de5159ff-aa02-4532-96ac-3fd3b8b37109",
        "colab": {
          "base_uri": "https://localhost:8080/",
          "height": 146
        }
      },
      "source": [
        "thetas"
      ],
      "execution_count": 59,
      "outputs": [
        {
          "output_type": "execute_result",
          "data": {
            "text/plain": [
              "[array([-2.6205116 ,  0.76037154,  1.17194674]),\n",
              " array([-2.6205116 ,  0.76037154,  1.17194674]),\n",
              " array([-2.6205116 ,  0.76037154,  1.17194674]),\n",
              " array([-2.6205116 ,  0.76037154,  1.17194674]),\n",
              " array([-2.6205116 ,  0.76037154,  1.17194674]),\n",
              " array([-2.6205116 ,  0.76037154,  1.17194674]),\n",
              " array([-2.6205116 ,  0.76037154,  1.17194674])]"
            ]
          },
          "metadata": {
            "tags": []
          },
          "execution_count": 59
        }
      ]
    },
    {
      "cell_type": "code",
      "metadata": {
        "id": "O1ZQeIplxPFU",
        "outputId": "3ebfcd7a-5596-4a8e-cc50-4ba011ed455f",
        "colab": {
          "base_uri": "https://localhost:8080/",
          "height": 265
        }
      },
      "source": [
        "def graph_ineff(funct, x_range, cl='r--', show=False):\n",
        "    y_range=[]                                                                                   \n",
        "    for x in x_range:\n",
        "        y_range.append(funct(x))\n",
        "    plt.plot(x_range,y_range,cl)\n",
        "    if show: plt.show()\n",
        "\n",
        "xr=np.linspace(-9,9,1000)\n",
        "graph_ineff(lambda z: 1/(1+np.exp(-z)),xr,cl='b--')\n",
        "graph_ineff(lambda z: 1/2,xr)"
      ],
      "execution_count": 60,
      "outputs": [
        {
          "output_type": "display_data",
          "data": {
            "image/png": "[encoded data removed]",
            "text/plain": [
              "<Figure size 432x288 with 1 Axes>"
            ]
          },
          "metadata": {
            "tags": [],
            "needs_background": "light"
          }
        }
      ]
    },
    {
      "cell_type": "code",
      "metadata": {
        "id": "jBfhkt6Gyj_t",
        "outputId": "4c6bd11b-6bd7-4ac1-b751-5fb872561209",
        "colab": {
          "base_uri": "https://localhost:8080/",
          "height": 280
        }
      },
      "source": [
        "ax = plt.axes()\n",
        "\n",
        "data_1.plot.scatter(x=0, y=1, ax=ax, color='blue')\n",
        "data_2.plot.scatter(x=0, y=1, ax=ax, color='red')\n",
        "plt.xlabel('x_1')\n",
        "plt.ylabel('x_2')\n",
        "theta = thetas[-1]\n",
        "theta=thetas[-1]\n",
        "graph_ineff(lambda x1: (theta[0] + (theta[1] * x1)) / (-theta[2]), np.linspace(0, 8, 1000))\n",
        "plt.show()\n"
      ],
      "execution_count": 64,
      "outputs": [
        {
          "output_type": "display_data",
          "data": {
            "image/png": "[encoded data removed]",
            "text/plain": [
              "<Figure size 432x288 with 1 Axes>"
            ]
          },
          "metadata": {
            "tags": [],
            "needs_background": "light"
          }
        }
      ]
    }
  ]
}