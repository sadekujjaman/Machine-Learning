{
  "nbformat": 4,
  "nbformat_minor": 0,
  "metadata": {
    "colab": {
      "name": "Vectorization_Logistic_Regression.ipynb",
      "provenance": [],
      "authorship_tag": "ABX9TyOBlDwEANgrAI97FqG8Oh5D"
    },
    "kernelspec": {
      "name": "python3",
      "display_name": "Python 3"
    }
  },
  "cells": [
    {
      "cell_type": "code",
      "metadata": {
        "id": "jv9YVOdpGpc2"
      },
      "source": [
        "from google.colab import drive\n",
        "import numpy as np\n",
        "import math\n",
        "import time\n",
        "import matplotlib.pyplot as plt"
      ],
      "execution_count": null,
      "outputs": []
    },
    {
      "cell_type": "code",
      "metadata": {
        "id": "r2UUrju4LBiJ",
        "outputId": "f3e01b52-7668-429b-81b5-b3d134065c99",
        "colab": {
          "base_uri": "https://localhost:8080/"
        }
      },
      "source": [
        "drive.mount('/content/drive')\n"
      ],
      "execution_count": null,
      "outputs": [
        {
          "output_type": "stream",
          "text": [
            "Mounted at /content/drive\n"
          ],
          "name": "stdout"
        }
      ]
    },
    {
      "cell_type": "code",
      "metadata": {
        "id": "FnGtnBY6MKHr"
      },
      "source": [
        "root_path = 'drive/My Drive/Machine Learning/Vectoriztion_Logistic_Regression/'"
      ],
      "execution_count": null,
      "outputs": []
    },
    {
      "cell_type": "code",
      "metadata": {
        "id": "bJHaaF11M0ti",
        "outputId": "22c79ef2-add9-454a-8f22-055f14913768",
        "colab": {
          "base_uri": "https://localhost:8080/",
          "height": 110
        }
      },
      "source": [
        "X = np.ndfromtxt(root_path+'images.csv', delimiter=',')\n",
        "Y = np.ndfromtxt(root_path+'labels.csv', delimiter=',')"
      ],
      "execution_count": null,
      "outputs": [
        {
          "output_type": "stream",
          "text": [
            "/usr/local/lib/python3.6/dist-packages/ipykernel_launcher.py:1: DeprecationWarning: np.ndfromtxt is a deprecated alias of np.genfromtxt, prefer the latter.\n",
            "  \"\"\"Entry point for launching an IPython kernel.\n",
            "/usr/local/lib/python3.6/dist-packages/ipykernel_launcher.py:2: DeprecationWarning: np.ndfromtxt is a deprecated alias of np.genfromtxt, prefer the latter.\n",
            "  \n"
          ],
          "name": "stderr"
        }
      ]
    },
    {
      "cell_type": "code",
      "metadata": {
        "id": "sG24oWHJN1d9",
        "outputId": "0980b79f-b29e-41d3-b0f7-e586adee7195",
        "colab": {
          "base_uri": "https://localhost:8080/",
          "height": 35
        }
      },
      "source": [
        "print(X.shape, Y.shape)"
      ],
      "execution_count": null,
      "outputs": [
        {
          "output_type": "stream",
          "text": [
            "(10000, 784) (10000,)\n"
          ],
          "name": "stdout"
        }
      ]
    },
    {
      "cell_type": "code",
      "metadata": {
        "id": "_NL_N1dYPeLc",
        "outputId": "5c0df1c9-df84-41d4-89e7-1dcb9179dd87",
        "colab": {
          "base_uri": "https://localhost:8080/",
          "height": 72
        }
      },
      "source": [
        "ind = np.logical_or(Y == 1, Y == 0)\n",
        "X = X[ind, :]\n",
        "Y = Y[ind]\n",
        "print(X.shape, Y.shape)\n",
        "\n",
        "num_train = int(len(Y) * 0.8)\n",
        "X_train = X[0:num_train, :]\n",
        "X_test = X[num_train:-1,:]\n",
        "Y_train = Y[0:num_train]\n",
        "Y_test = Y[num_train:-1]\n",
        "print(X_train.shape, X_test.shape)\n",
        "print(Y_train.shape, Y_test.shape)"
      ],
      "execution_count": null,
      "outputs": [
        {
          "output_type": "stream",
          "text": [
            "(2115, 784) (2115,)\n",
            "(1692, 784) (422, 784)\n",
            "(1692,) (422,)\n"
          ],
          "name": "stdout"
        }
      ]
    },
    {
      "cell_type": "code",
      "metadata": {
        "id": "lPNHMTWnOMJz",
        "outputId": "c67b0422-54be-4f23-8201-df6aee87e4fa",
        "colab": {
          "base_uri": "https://localhost:8080/",
          "height": 35
        }
      },
      "source": [
        "img_size = X.shape[1]\n",
        "print(img_size)"
      ],
      "execution_count": null,
      "outputs": [
        {
          "output_type": "stream",
          "text": [
            "784\n"
          ],
          "name": "stdout"
        }
      ]
    },
    {
      "cell_type": "code",
      "metadata": {
        "id": "M0vaAbErQN53",
        "outputId": "6833ff8c-f29b-4050-f43b-47ed802b8356",
        "colab": {
          "base_uri": "https://localhost:8080/",
          "height": 35
        }
      },
      "source": [
        "theta = np.zeros([img_size])\n",
        "print(theta.shape)\n"
      ],
      "execution_count": null,
      "outputs": [
        {
          "output_type": "stream",
          "text": [
            "(784,)\n"
          ],
          "name": "stdout"
        }
      ]
    },
    {
      "cell_type": "code",
      "metadata": {
        "id": "niUk6AH8TTRO",
        "outputId": "34b21360-c0b5-4c89-f717-6cd9daae89e2",
        "colab": {
          "base_uri": "https://localhost:8080/",
          "height": 35
        }
      },
      "source": [
        "x = X[0,:]\n",
        "print(x.shape)"
      ],
      "execution_count": null,
      "outputs": [
        {
          "output_type": "stream",
          "text": [
            "(784,)\n"
          ],
          "name": "stdout"
        }
      ]
    },
    {
      "cell_type": "code",
      "metadata": {
        "id": "m4uoyjm6uwI1"
      },
      "source": [
        "def h(theta, x):\n",
        "    return 1 / (1 + np.exp(-np.dot(theta, x)))\n",
        "    \n",
        "  \n",
        "def get_theta(theta, X_train, Y_train, alpha):\n",
        "  diff = np.zeros([len(Y_train)])\n",
        "  for i in range(len(Y_train)):\n",
        "    diff[i] = h(theta, X_train[i, :]) - Y_train[i]\n",
        "  \n",
        "  for j in range(len(theta)):\n",
        "    sum = 0.0\n",
        "    for i in range(len(Y_train)):\n",
        "      sum = sum + (diff[i] * X_train[i][j])\n",
        "    theta[j] = theta[j] - (alpha * sum)\n",
        "  return theta\n",
        "\n",
        "  \n",
        "def get_minimized_theta(X_train, Y_train, max_itr=10, alpha=0.01):\n",
        "  theta = np.zeros([img_size])\n",
        "  for i in range(max_itr):\n",
        "    theta = get_theta(theta, X_train, Y_train, alpha)\n",
        "  return theta"
      ],
      "execution_count": null,
      "outputs": []
    },
    {
      "cell_type": "code",
      "metadata": {
        "id": "lB0QcD8HwUkZ",
        "outputId": "c54e3f7b-fcd0-404f-80f1-f58625f04f23",
        "colab": {
          "base_uri": "https://localhost:8080/",
          "height": 72
        }
      },
      "source": [
        "start = time.time()\n",
        "theta = get_minimized_theta(X_train, Y_train)\n",
        "end = time.time()\n",
        "print(\"time elapsed: {0} seconds\".format(end - start))"
      ],
      "execution_count": null,
      "outputs": [
        {
          "output_type": "stream",
          "text": [
            "/usr/local/lib/python3.6/dist-packages/ipykernel_launcher.py:2: RuntimeWarning: overflow encountered in exp\n",
            "  \n"
          ],
          "name": "stderr"
        },
        {
          "output_type": "stream",
          "text": [
            "time elapsed: 9.224462747573853 seconds\n"
          ],
          "name": "stdout"
        }
      ]
    },
    {
      "cell_type": "code",
      "metadata": {
        "id": "2vbLTLEAwekJ"
      },
      "source": [
        "\n",
        "def h_vec(theta, X):\n",
        "  signal = np.matmul(X, theta)\n",
        "  return 1.0 / (1.0 + np.exp(-signal))\n",
        "\n",
        "\n",
        "def get_theta_better(theta, X_train, Y_train, alpha):\n",
        "  diff_arr = h_vec(theta, X_train) - Y_train\n",
        "  for j in range(len(theta)):\n",
        "    theta[j] = theta[j] - (alpha * np.dot(diff_arr, X_train[:, j]))\n",
        "  return theta\n",
        "\n",
        "def get_minimized_theta_better(X_train, Y_train, max_itr = 10, alpha = 0.01):\n",
        "  theta = np.zeros([img_size])\n",
        "  for i in range(max_itr):\n",
        "    theta = get_theta_better(theta, X_train, Y_train, alpha)\n",
        "  return theta\n"
      ],
      "execution_count": null,
      "outputs": []
    },
    {
      "cell_type": "code",
      "metadata": {
        "id": "kyM-mF2FxxXL",
        "outputId": "f6edbbed-32ef-4e30-8266-6668ba566fdd",
        "colab": {
          "base_uri": "https://localhost:8080/",
          "height": 72
        }
      },
      "source": [
        "start = time.time()\n",
        "theta = get_minimized_theta_better(X_train, Y_train)\n",
        "end = time.time()\n",
        "print(\"time elapsed: {0} seconds\".format(end - start))"
      ],
      "execution_count": null,
      "outputs": [
        {
          "output_type": "stream",
          "text": [
            "time elapsed: 0.07311797142028809 seconds\n"
          ],
          "name": "stdout"
        },
        {
          "output_type": "stream",
          "text": [
            "/usr/local/lib/python3.6/dist-packages/ipykernel_launcher.py:4: RuntimeWarning: overflow encountered in exp\n",
            "  after removing the cwd from sys.path.\n"
          ],
          "name": "stderr"
        }
      ]
    },
    {
      "cell_type": "code",
      "metadata": {
        "id": "-I8sbsfM_iYJ",
        "outputId": "078285a8-615a-44d1-8c56-4590b29c1881",
        "colab": {
          "base_uri": "https://localhost:8080/",
          "height": 90
        }
      },
      "source": [
        "pred = (np.sign(h_vec(theta, X_test) - 0.5) + 1) / 2\n",
        "print(pred.shape)\n",
        "print(\"percentage correct: {0}\".format(np.sum(pred == Y_test) / len(Y_test)))"
      ],
      "execution_count": null,
      "outputs": [
        {
          "output_type": "stream",
          "text": [
            "(422,)\n",
            "percentage correct: 1.0\n"
          ],
          "name": "stdout"
        },
        {
          "output_type": "stream",
          "text": [
            "/usr/local/lib/python3.6/dist-packages/ipykernel_launcher.py:4: RuntimeWarning: overflow encountered in exp\n",
            "  after removing the cwd from sys.path.\n"
          ],
          "name": "stderr"
        }
      ]
    },
    {
      "cell_type": "code",
      "metadata": {
        "id": "mrk1gKTKClxg"
      },
      "source": [
        "\n",
        "def h_vec(theta, X):\n",
        "  signal = np.matmul(X, theta)\n",
        "  return 1.0 / (1.0 + np.exp(-signal))\n",
        "\n",
        "def get_theta_fully_vec(theta, X_train, Y_train, alpha):\n",
        "  diff = h_vec(theta, X_train) - Y_train\n",
        "  temp = alpha * np.matmul(X_train.T, diff)\n",
        "  new_theta = theta - temp\n",
        "  return new_theta\n",
        "\n",
        "def get_minimized_theta_fully_vec(X_train, Y_train, max_itr = 10, alpha = 0.01):\n",
        "  theta = np.zeros([img_size])\n",
        "  for i in range(max_itr):\n",
        "    theta = get_theta_fully_vec(theta, X_train, Y_train, alpha)\n",
        "  return theta"
      ],
      "execution_count": null,
      "outputs": []
    },
    {
      "cell_type": "code",
      "metadata": {
        "id": "vOGIw8NqCfD0",
        "outputId": "15d4b706-03c4-42bd-8123-14e41bcbcb9f",
        "colab": {
          "base_uri": "https://localhost:8080/",
          "height": 72
        }
      },
      "source": [
        "start = time.time()\n",
        "theta = get_minimized_theta_fully_vec(X_train, Y_train)\n",
        "end = time.time()\n",
        "print(\"time elapsed: {0} seconds\".format(end - start))"
      ],
      "execution_count": null,
      "outputs": [
        {
          "output_type": "stream",
          "text": [
            "time elapsed: 0.021889686584472656 seconds\n"
          ],
          "name": "stdout"
        },
        {
          "output_type": "stream",
          "text": [
            "/usr/local/lib/python3.6/dist-packages/ipykernel_launcher.py:4: RuntimeWarning: overflow encountered in exp\n",
            "  after removing the cwd from sys.path.\n"
          ],
          "name": "stderr"
        }
      ]
    }
  ]
}